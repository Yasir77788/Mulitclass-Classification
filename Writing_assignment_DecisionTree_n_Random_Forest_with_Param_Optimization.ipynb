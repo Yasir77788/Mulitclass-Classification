{
 "cells": [
  {
   "cell_type": "code",
   "execution_count": 1,
   "metadata": {},
   "outputs": [],
   "source": [
    "# Yasir Hassan\n",
    "# Decision Tree and Random Forest with Parameter Optimization\n",
    "# To classify the 5 classes of SingleCell-Seq \n",
    "# using the database Data_Glioblastoma5Patients_SC"
   ]
  },
  {
   "cell_type": "code",
   "execution_count": 93,
   "metadata": {},
   "outputs": [],
   "source": [
    "from sklearn.tree import DecisionTreeClassifier\n",
    "from sklearn.ensemble import RandomForestClassifier\n",
    "import numpy as np\n",
    "import matplotlib.pyplot as plt\n",
    "import pandas as pd"
   ]
  },
  {
   "cell_type": "code",
   "execution_count": 94,
   "metadata": {},
   "outputs": [],
   "source": [
    "# read the dataset\\n\",\n",
    "readdata = pd.read_csv(r\"C:\\Users\\NeverGiveUp\\Desktop\\Writing_File\\Data_Glioblastoma5Patients_SC.csv\")\n",
    "df = pd.DataFrame(readdata)  "
   ]
  },
  {
   "cell_type": "code",
   "execution_count": 95,
   "metadata": {},
   "outputs": [],
   "source": [
    "correct_Pattern_labels = df['Classes'].values"
   ]
  },
  {
   "cell_type": "code",
   "execution_count": 96,
   "metadata": {},
   "outputs": [
    {
     "data": {
      "text/html": [
       "<div>\n",
       "<style scoped>\n",
       "    .dataframe tbody tr th:only-of-type {\n",
       "        vertical-align: middle;\n",
       "    }\n",
       "\n",
       "    .dataframe tbody tr th {\n",
       "        vertical-align: top;\n",
       "    }\n",
       "\n",
       "    .dataframe thead th {\n",
       "        text-align: right;\n",
       "    }\n",
       "</style>\n",
       "<table border=\"1\" class=\"dataframe\">\n",
       "  <thead>\n",
       "    <tr style=\"text-align: right;\">\n",
       "      <th></th>\n",
       "      <th>A2M</th>\n",
       "      <th>AAAS</th>\n",
       "      <th>AAK1</th>\n",
       "      <th>AAMP</th>\n",
       "      <th>AARS</th>\n",
       "      <th>AARSD1</th>\n",
       "      <th>AASDH</th>\n",
       "      <th>AASDHPPT</th>\n",
       "      <th>AASS</th>\n",
       "      <th>AATF</th>\n",
       "      <th>...</th>\n",
       "      <th>ZSWIM6</th>\n",
       "      <th>ZSWIM7</th>\n",
       "      <th>ZUFSP</th>\n",
       "      <th>ZW10</th>\n",
       "      <th>ZWILCH</th>\n",
       "      <th>ZXDC</th>\n",
       "      <th>ZYG11B</th>\n",
       "      <th>ZYX</th>\n",
       "      <th>ZZZ3</th>\n",
       "      <th>Classes</th>\n",
       "    </tr>\n",
       "  </thead>\n",
       "  <tbody>\n",
       "    <tr>\n",
       "      <th>count</th>\n",
       "      <td>4.300000e+02</td>\n",
       "      <td>4.300000e+02</td>\n",
       "      <td>4.300000e+02</td>\n",
       "      <td>4.300000e+02</td>\n",
       "      <td>4.300000e+02</td>\n",
       "      <td>4.300000e+02</td>\n",
       "      <td>4.300000e+02</td>\n",
       "      <td>4.300000e+02</td>\n",
       "      <td>4.300000e+02</td>\n",
       "      <td>4.300000e+02</td>\n",
       "      <td>...</td>\n",
       "      <td>4.300000e+02</td>\n",
       "      <td>4.300000e+02</td>\n",
       "      <td>4.300000e+02</td>\n",
       "      <td>4.300000e+02</td>\n",
       "      <td>4.300000e+02</td>\n",
       "      <td>4.300000e+02</td>\n",
       "      <td>4.300000e+02</td>\n",
       "      <td>4.300000e+02</td>\n",
       "      <td>4.300000e+02</td>\n",
       "      <td>430.000000</td>\n",
       "    </tr>\n",
       "    <tr>\n",
       "      <th>mean</th>\n",
       "      <td>-5.116304e-11</td>\n",
       "      <td>9.069751e-11</td>\n",
       "      <td>1.627911e-11</td>\n",
       "      <td>-7.674423e-11</td>\n",
       "      <td>-8.139528e-11</td>\n",
       "      <td>-1.302326e-10</td>\n",
       "      <td>-2.255814e-10</td>\n",
       "      <td>-2.325854e-12</td>\n",
       "      <td>5.813938e-11</td>\n",
       "      <td>-1.511630e-10</td>\n",
       "      <td>...</td>\n",
       "      <td>-1.906975e-10</td>\n",
       "      <td>-3.953480e-11</td>\n",
       "      <td>-4.418617e-11</td>\n",
       "      <td>-1.651161e-10</td>\n",
       "      <td>1.906977e-10</td>\n",
       "      <td>-1.348837e-10</td>\n",
       "      <td>3.255816e-11</td>\n",
       "      <td>-2.023256e-10</td>\n",
       "      <td>-1.604652e-10</td>\n",
       "      <td>2.727907</td>\n",
       "    </tr>\n",
       "    <tr>\n",
       "      <th>std</th>\n",
       "      <td>4.907659e+00</td>\n",
       "      <td>3.641663e+00</td>\n",
       "      <td>2.474651e+00</td>\n",
       "      <td>3.563029e+00</td>\n",
       "      <td>3.909578e+00</td>\n",
       "      <td>3.317166e+00</td>\n",
       "      <td>2.883981e+00</td>\n",
       "      <td>3.759008e+00</td>\n",
       "      <td>3.236368e+00</td>\n",
       "      <td>3.461157e+00</td>\n",
       "      <td>...</td>\n",
       "      <td>2.730348e+00</td>\n",
       "      <td>2.946168e+00</td>\n",
       "      <td>2.702606e+00</td>\n",
       "      <td>2.836726e+00</td>\n",
       "      <td>2.788284e+00</td>\n",
       "      <td>2.859633e+00</td>\n",
       "      <td>2.811249e+00</td>\n",
       "      <td>3.001418e+00</td>\n",
       "      <td>3.052755e+00</td>\n",
       "      <td>1.438049</td>\n",
       "    </tr>\n",
       "    <tr>\n",
       "      <th>min</th>\n",
       "      <td>-3.801470e+00</td>\n",
       "      <td>-3.889900e+00</td>\n",
       "      <td>-3.985616e+00</td>\n",
       "      <td>-5.820241e+00</td>\n",
       "      <td>-6.041792e+00</td>\n",
       "      <td>-3.699171e+00</td>\n",
       "      <td>-2.473517e+00</td>\n",
       "      <td>-4.354127e+00</td>\n",
       "      <td>-6.493931e+00</td>\n",
       "      <td>-2.570976e+00</td>\n",
       "      <td>...</td>\n",
       "      <td>-1.821098e+00</td>\n",
       "      <td>-3.118284e+00</td>\n",
       "      <td>-1.538324e+00</td>\n",
       "      <td>-1.550699e+00</td>\n",
       "      <td>-1.558581e+00</td>\n",
       "      <td>-3.068620e+00</td>\n",
       "      <td>-3.421540e+00</td>\n",
       "      <td>-2.509017e+00</td>\n",
       "      <td>-2.149696e+00</td>\n",
       "      <td>1.000000</td>\n",
       "    </tr>\n",
       "    <tr>\n",
       "      <th>25%</th>\n",
       "      <td>-3.801470e+00</td>\n",
       "      <td>-3.889900e+00</td>\n",
       "      <td>-1.871573e+00</td>\n",
       "      <td>-3.807913e+00</td>\n",
       "      <td>-4.560471e+00</td>\n",
       "      <td>-3.699171e+00</td>\n",
       "      <td>-2.473517e+00</td>\n",
       "      <td>-4.354127e+00</td>\n",
       "      <td>-1.967954e+00</td>\n",
       "      <td>-2.570976e+00</td>\n",
       "      <td>...</td>\n",
       "      <td>-1.821098e+00</td>\n",
       "      <td>-3.118284e+00</td>\n",
       "      <td>-1.538324e+00</td>\n",
       "      <td>-1.550699e+00</td>\n",
       "      <td>-1.558581e+00</td>\n",
       "      <td>-3.068620e+00</td>\n",
       "      <td>-2.423300e+00</td>\n",
       "      <td>-2.509017e+00</td>\n",
       "      <td>-2.149696e+00</td>\n",
       "      <td>1.000000</td>\n",
       "    </tr>\n",
       "    <tr>\n",
       "      <th>50%</th>\n",
       "      <td>-3.801470e+00</td>\n",
       "      <td>4.099148e-01</td>\n",
       "      <td>-3.150282e-01</td>\n",
       "      <td>1.746972e+00</td>\n",
       "      <td>1.776033e+00</td>\n",
       "      <td>1.097698e-01</td>\n",
       "      <td>-2.473517e+00</td>\n",
       "      <td>1.255356e+00</td>\n",
       "      <td>1.192040e+00</td>\n",
       "      <td>-2.570976e+00</td>\n",
       "      <td>...</td>\n",
       "      <td>-1.821098e+00</td>\n",
       "      <td>-8.136609e-01</td>\n",
       "      <td>-1.538324e+00</td>\n",
       "      <td>-1.550699e+00</td>\n",
       "      <td>-1.558581e+00</td>\n",
       "      <td>-8.339072e-01</td>\n",
       "      <td>-4.421617e-01</td>\n",
       "      <td>-2.509017e+00</td>\n",
       "      <td>-2.149696e+00</td>\n",
       "      <td>3.000000</td>\n",
       "    </tr>\n",
       "    <tr>\n",
       "      <th>75%</th>\n",
       "      <td>4.943281e+00</td>\n",
       "      <td>3.711243e+00</td>\n",
       "      <td>2.002047e+00</td>\n",
       "      <td>2.686033e+00</td>\n",
       "      <td>3.116038e+00</td>\n",
       "      <td>3.238343e+00</td>\n",
       "      <td>2.622538e+00</td>\n",
       "      <td>3.553135e+00</td>\n",
       "      <td>2.261182e+00</td>\n",
       "      <td>3.911515e+00</td>\n",
       "      <td>...</td>\n",
       "      <td>2.038805e+00</td>\n",
       "      <td>2.848862e+00</td>\n",
       "      <td>8.320662e-01</td>\n",
       "      <td>-1.687454e-01</td>\n",
       "      <td>3.335339e-01</td>\n",
       "      <td>2.459752e+00</td>\n",
       "      <td>2.514619e+00</td>\n",
       "      <td>2.939355e+00</td>\n",
       "      <td>2.228821e+00</td>\n",
       "      <td>4.000000</td>\n",
       "    </tr>\n",
       "    <tr>\n",
       "      <th>max</th>\n",
       "      <td>1.170195e+01</td>\n",
       "      <td>5.840230e+00</td>\n",
       "      <td>5.389576e+00</td>\n",
       "      <td>4.520579e+00</td>\n",
       "      <td>6.366184e+00</td>\n",
       "      <td>6.012985e+00</td>\n",
       "      <td>6.798128e+00</td>\n",
       "      <td>5.729251e+00</td>\n",
       "      <td>4.324112e+00</td>\n",
       "      <td>6.992394e+00</td>\n",
       "      <td>...</td>\n",
       "      <td>7.931653e+00</td>\n",
       "      <td>6.105923e+00</td>\n",
       "      <td>8.186486e+00</td>\n",
       "      <td>8.073628e+00</td>\n",
       "      <td>7.998381e+00</td>\n",
       "      <td>5.950488e+00</td>\n",
       "      <td>6.703674e+00</td>\n",
       "      <td>6.918941e+00</td>\n",
       "      <td>8.064823e+00</td>\n",
       "      <td>5.000000</td>\n",
       "    </tr>\n",
       "  </tbody>\n",
       "</table>\n",
       "<p>8 rows × 5949 columns</p>\n",
       "</div>"
      ],
      "text/plain": [
       "                A2M          AAAS          AAK1          AAMP          AARS  \\\n",
       "count  4.300000e+02  4.300000e+02  4.300000e+02  4.300000e+02  4.300000e+02   \n",
       "mean  -5.116304e-11  9.069751e-11  1.627911e-11 -7.674423e-11 -8.139528e-11   \n",
       "std    4.907659e+00  3.641663e+00  2.474651e+00  3.563029e+00  3.909578e+00   \n",
       "min   -3.801470e+00 -3.889900e+00 -3.985616e+00 -5.820241e+00 -6.041792e+00   \n",
       "25%   -3.801470e+00 -3.889900e+00 -1.871573e+00 -3.807913e+00 -4.560471e+00   \n",
       "50%   -3.801470e+00  4.099148e-01 -3.150282e-01  1.746972e+00  1.776033e+00   \n",
       "75%    4.943281e+00  3.711243e+00  2.002047e+00  2.686033e+00  3.116038e+00   \n",
       "max    1.170195e+01  5.840230e+00  5.389576e+00  4.520579e+00  6.366184e+00   \n",
       "\n",
       "             AARSD1         AASDH      AASDHPPT          AASS          AATF  \\\n",
       "count  4.300000e+02  4.300000e+02  4.300000e+02  4.300000e+02  4.300000e+02   \n",
       "mean  -1.302326e-10 -2.255814e-10 -2.325854e-12  5.813938e-11 -1.511630e-10   \n",
       "std    3.317166e+00  2.883981e+00  3.759008e+00  3.236368e+00  3.461157e+00   \n",
       "min   -3.699171e+00 -2.473517e+00 -4.354127e+00 -6.493931e+00 -2.570976e+00   \n",
       "25%   -3.699171e+00 -2.473517e+00 -4.354127e+00 -1.967954e+00 -2.570976e+00   \n",
       "50%    1.097698e-01 -2.473517e+00  1.255356e+00  1.192040e+00 -2.570976e+00   \n",
       "75%    3.238343e+00  2.622538e+00  3.553135e+00  2.261182e+00  3.911515e+00   \n",
       "max    6.012985e+00  6.798128e+00  5.729251e+00  4.324112e+00  6.992394e+00   \n",
       "\n",
       "       ...        ZSWIM6        ZSWIM7         ZUFSP          ZW10  \\\n",
       "count  ...  4.300000e+02  4.300000e+02  4.300000e+02  4.300000e+02   \n",
       "mean   ... -1.906975e-10 -3.953480e-11 -4.418617e-11 -1.651161e-10   \n",
       "std    ...  2.730348e+00  2.946168e+00  2.702606e+00  2.836726e+00   \n",
       "min    ... -1.821098e+00 -3.118284e+00 -1.538324e+00 -1.550699e+00   \n",
       "25%    ... -1.821098e+00 -3.118284e+00 -1.538324e+00 -1.550699e+00   \n",
       "50%    ... -1.821098e+00 -8.136609e-01 -1.538324e+00 -1.550699e+00   \n",
       "75%    ...  2.038805e+00  2.848862e+00  8.320662e-01 -1.687454e-01   \n",
       "max    ...  7.931653e+00  6.105923e+00  8.186486e+00  8.073628e+00   \n",
       "\n",
       "             ZWILCH          ZXDC        ZYG11B           ZYX          ZZZ3  \\\n",
       "count  4.300000e+02  4.300000e+02  4.300000e+02  4.300000e+02  4.300000e+02   \n",
       "mean   1.906977e-10 -1.348837e-10  3.255816e-11 -2.023256e-10 -1.604652e-10   \n",
       "std    2.788284e+00  2.859633e+00  2.811249e+00  3.001418e+00  3.052755e+00   \n",
       "min   -1.558581e+00 -3.068620e+00 -3.421540e+00 -2.509017e+00 -2.149696e+00   \n",
       "25%   -1.558581e+00 -3.068620e+00 -2.423300e+00 -2.509017e+00 -2.149696e+00   \n",
       "50%   -1.558581e+00 -8.339072e-01 -4.421617e-01 -2.509017e+00 -2.149696e+00   \n",
       "75%    3.335339e-01  2.459752e+00  2.514619e+00  2.939355e+00  2.228821e+00   \n",
       "max    7.998381e+00  5.950488e+00  6.703674e+00  6.918941e+00  8.064823e+00   \n",
       "\n",
       "          Classes  \n",
       "count  430.000000  \n",
       "mean     2.727907  \n",
       "std      1.438049  \n",
       "min      1.000000  \n",
       "25%      1.000000  \n",
       "50%      3.000000  \n",
       "75%      4.000000  \n",
       "max      5.000000  \n",
       "\n",
       "[8 rows x 5949 columns]"
      ]
     },
     "execution_count": 96,
     "metadata": {},
     "output_type": "execute_result"
    }
   ],
   "source": [
    "df.describe()"
   ]
  },
  {
   "cell_type": "code",
   "execution_count": 97,
   "metadata": {},
   "outputs": [],
   "source": [
    "# Map the labels to the ordinal numbers\n",
    "df['Classes']=df['Classes'].replace({1:\"CT1\", 2:\"CT2\", 3:\"CT3\", 4:\"CT4\", 5:\"CT5\"})"
   ]
  },
  {
   "cell_type": "code",
   "execution_count": 98,
   "metadata": {},
   "outputs": [
    {
     "data": {
      "text/plain": [
       "CT1    118\n",
       "CT2     94\n",
       "CT3     75\n",
       "CT4     73\n",
       "CT5     70\n",
       "Name: Classes, dtype: int64"
      ]
     },
     "execution_count": 98,
     "metadata": {},
     "output_type": "execute_result"
    }
   ],
   "source": [
    "# Obtain the class distribution\n",
    "df['Classes'].value_counts()"
   ]
  },
  {
   "cell_type": "code",
   "execution_count": 99,
   "metadata": {},
   "outputs": [],
   "source": [
    "# Scale the features using StandardScaler class.\n",
    "from sklearn.preprocessing import StandardScaler\n",
    "sc = StandardScaler()\n",
    "X = sc.fit_transform(X)"
   ]
  },
  {
   "cell_type": "code",
   "execution_count": 100,
   "metadata": {},
   "outputs": [],
   "source": [
    "# Train, test split\n",
    "from sklearn.model_selection import train_test_split\n",
    "X = df.drop(['Classes'],axis=1)\n",
    "y = df['Classes']\n",
    "X_train, X_test, y_train, y_test = train_test_split(X, y, test_size=0.2, random_state=42,stratify=y)"
   ]
  },
  {
   "cell_type": "code",
   "execution_count": 101,
   "metadata": {},
   "outputs": [],
   "source": [
    "# obtain class labels for future use\n",
    "classes = y.value_counts().index.tolist()"
   ]
  },
  {
   "cell_type": "code",
   "execution_count": 102,
   "metadata": {},
   "outputs": [],
   "source": [
    "# instantiate the object for the classifier\n",
    "tree = DecisionTreeClassifier(random_state=0)"
   ]
  },
  {
   "cell_type": "code",
   "execution_count": 103,
   "metadata": {},
   "outputs": [
    {
     "data": {
      "text/plain": [
       "DecisionTreeClassifier(ccp_alpha=0.0, class_weight=None, criterion='gini',\n",
       "                       max_depth=None, max_features=None, max_leaf_nodes=None,\n",
       "                       min_impurity_decrease=0.0, min_impurity_split=None,\n",
       "                       min_samples_leaf=1, min_samples_split=2,\n",
       "                       min_weight_fraction_leaf=0.0, presort='deprecated',\n",
       "                       random_state=0, splitter='best')"
      ]
     },
     "execution_count": 103,
     "metadata": {},
     "output_type": "execute_result"
    }
   ],
   "source": [
    "# fit the classifier with training data\n",
    "tree.fit(X_train, y_train)"
   ]
  },
  {
   "cell_type": "code",
   "execution_count": 104,
   "metadata": {},
   "outputs": [
    {
     "name": "stdout",
     "output_type": "stream",
     "text": [
      "Accuracy on training set: 1.000\n",
      "Accuracy on test set: 0.860\n"
     ]
    }
   ],
   "source": [
    "print(\"Accuracy on training set: {:.3f}\".format(tree.score(X_train, y_train)))\n",
    "print(\"Accuracy on test set: {:.3f}\".format(tree.score(X_test, y_test)))"
   ]
  },
  {
   "cell_type": "code",
   "execution_count": 105,
   "metadata": {},
   "outputs": [],
   "source": [
    "# The training set is 100% because the leaves are pure.\n",
    "# The tree was grown deep enough that it could perfectly memorize \n",
    "# all the labels on the training data. \n",
    "# The test set accuracy 86% accuracy."
   ]
  },
  {
   "cell_type": "code",
   "execution_count": 106,
   "metadata": {},
   "outputs": [
    {
     "data": {
      "text/plain": [
       "DecisionTreeClassifier(ccp_alpha=0.0, class_weight=None, criterion='gini',\n",
       "                       max_depth=4, max_features=None, max_leaf_nodes=None,\n",
       "                       min_impurity_decrease=0.0, min_impurity_split=None,\n",
       "                       min_samples_leaf=1, min_samples_split=2,\n",
       "                       min_weight_fraction_leaf=0.0, presort='deprecated',\n",
       "                       random_state=0, splitter='best')"
      ]
     },
     "execution_count": 106,
     "metadata": {},
     "output_type": "execute_result"
    }
   ],
   "source": [
    "# Now a pply pre-pruning to the tree, which will stop developing\n",
    "# the tree before it perfectly fits to the training data. \n",
    "# This will stop building the tree after a certain depth\n",
    "# has been reached, which is 4, level\n",
    "# And then fit the tree clf with training data\n",
    "tree = DecisionTreeClassifier(max_depth= 4, random_state=0)\n",
    "tree.fit(X_train, y_train)"
   ]
  },
  {
   "cell_type": "code",
   "execution_count": 107,
   "metadata": {},
   "outputs": [
    {
     "name": "stdout",
     "output_type": "stream",
     "text": [
      "Accuracy on training set: 0.965\n",
      "Accuracy on test set: 0.860\n"
     ]
    }
   ],
   "source": [
    "# Display the score for both training and then testing data\n",
    "# after applying pre-pruning to the tree, where max_depth = 4\n",
    "print(\"Accuracy on training set: {:.3f}\".format(tree.score(X_train, y_train)))\n",
    "print(\"Accuracy on test set: {:.3f}\".format(tree.score(X_test, y_test)))"
   ]
  },
  {
   "cell_type": "code",
   "execution_count": 108,
   "metadata": {},
   "outputs": [],
   "source": [
    "# perfrom prediction on X test data\n",
    "y_pred = tree.predict(X_test)"
   ]
  },
  {
   "cell_type": "code",
   "execution_count": 109,
   "metadata": {},
   "outputs": [
    {
     "name": "stdout",
     "output_type": "stream",
     "text": [
      "[[23  0  0  0  0]\n",
      " [ 0 18  0  1  0]\n",
      " [ 0  1 13  0  1]\n",
      " [ 0  1  1 12  1]\n",
      " [ 0  3  1  2  8]]\n"
     ]
    }
   ],
   "source": [
    "# get the confusion accuracy by comparing the prediction result to the test labels, y_test\n",
    "from sklearn.metrics import accuracy_score\n",
    "from sklearn.metrics import confusion_matrix\n",
    "cm = confusion_matrix(y_test, y_pred)\n",
    "print(cm)"
   ]
  },
  {
   "cell_type": "code",
   "execution_count": 110,
   "metadata": {},
   "outputs": [
    {
     "name": "stdout",
     "output_type": "stream",
     "text": [
      "0.8604651162790697\n"
     ]
    }
   ],
   "source": [
    "# get the accuracy and print it\n",
    "accuracy = accuracy_score(y_test, y_pred)\n",
    "print(accuracy)"
   ]
  },
  {
   "cell_type": "code",
   "execution_count": 111,
   "metadata": {},
   "outputs": [],
   "source": [
    "# So, the accuracy on test set has not changed yet.\n",
    "# Therefore, I am going to use the GridSearch Classifier \n",
    "# for finding the best parameters."
   ]
  },
  {
   "cell_type": "code",
   "execution_count": 112,
   "metadata": {},
   "outputs": [],
   "source": [
    "# Elect  parameters for the grid_search to find the best params and the best model.\n",
    "# Parameter Optimization, to Evaluate the Performance of \n",
    "# a single decision tree.\n",
    "# I use GridsearchCV classifier for finding the best parameters\n",
    "initial_param = {\n",
    "    \"criterion\":[\"gini\", \"entropy\"],\n",
    "    \"max_depth\":[1,2,3,4,5,6,7, None]\n",
    "}"
   ]
  },
  {
   "cell_type": "code",
   "execution_count": 113,
   "metadata": {},
   "outputs": [],
   "source": [
    "# import and use GridSearchCV for parameter optimzation\n",
    "from sklearn.model_selection import GridSearchCV \n",
    "grid = GridSearchCV(estimator = tree, param_grid = initial_param, cv = 5, n_jobs = -1)"
   ]
  },
  {
   "cell_type": "code",
   "execution_count": 114,
   "metadata": {},
   "outputs": [],
   "source": [
    "# fit the grid_search with the training data\n",
    "grid_search = grid_search.fit(X_train, y_train)"
   ]
  },
  {
   "cell_type": "code",
   "execution_count": 115,
   "metadata": {},
   "outputs": [
    {
     "name": "stdout",
     "output_type": "stream",
     "text": [
      "0.8950980392156863\n"
     ]
    }
   ],
   "source": [
    "# get the accuracy after grid search\n",
    "accuracy = grid_search.best_score_\n",
    "print(accuracy)"
   ]
  },
  {
   "cell_type": "code",
   "execution_count": 116,
   "metadata": {},
   "outputs": [],
   "source": [
    "# I can see from the above result:\n",
    "# the accuracy on test set increased\n",
    "# from .86 to .90"
   ]
  },
  {
   "cell_type": "code",
   "execution_count": 117,
   "metadata": {},
   "outputs": [
    {
     "name": "stdout",
     "output_type": "stream",
     "text": [
      "{'criterion': 'gini', 'splitter': 'best'}\n"
     ]
    }
   ],
   "source": [
    "# get best parameter from the grid_search\n",
    "print(grid_search.best_params_)"
   ]
  },
  {
   "cell_type": "code",
   "execution_count": 118,
   "metadata": {},
   "outputs": [],
   "source": [
    "# using the found best parameters, I instantiate \n",
    "# the Decision Tree object again\n",
    "# tree = DecisionTreeClassifier(criterion = 'gini', splitter = 'best', random_state = 0)\n",
    "tree = DecisionTreeClassifier(criterion= 'gini', max_depth= 4, random_state=0)"
   ]
  },
  {
   "cell_type": "code",
   "execution_count": 119,
   "metadata": {},
   "outputs": [
    {
     "data": {
      "text/plain": [
       "DecisionTreeClassifier(ccp_alpha=0.0, class_weight=None, criterion='gini',\n",
       "                       max_depth=4, max_features=None, max_leaf_nodes=None,\n",
       "                       min_impurity_decrease=0.0, min_impurity_split=None,\n",
       "                       min_samples_leaf=1, min_samples_split=2,\n",
       "                       min_weight_fraction_leaf=0.0, presort='deprecated',\n",
       "                       random_state=0, splitter='best')"
      ]
     },
     "execution_count": 119,
     "metadata": {},
     "output_type": "execute_result"
    }
   ],
   "source": [
    "# fit the classifier with the training set\n",
    "tree.fit(X_train, y_train)"
   ]
  },
  {
   "cell_type": "code",
   "execution_count": 120,
   "metadata": {},
   "outputs": [],
   "source": [
    "y_pred = tree.predict(X_test)"
   ]
  },
  {
   "cell_type": "code",
   "execution_count": 121,
   "metadata": {},
   "outputs": [
    {
     "name": "stdout",
     "output_type": "stream",
     "text": [
      "[[23  0  0  0  0]\n",
      " [ 0 18  0  1  0]\n",
      " [ 0  1 13  0  1]\n",
      " [ 0  1  1 12  1]\n",
      " [ 0  3  1  2  8]]\n"
     ]
    }
   ],
   "source": [
    "# print the confusion matrix\n",
    "cm = confusion_matrix(y_test, y_pred)\n",
    "print(cm)"
   ]
  },
  {
   "cell_type": "code",
   "execution_count": 122,
   "metadata": {},
   "outputs": [
    {
     "data": {
      "text/plain": [
       "0.8950980392156863"
      ]
     },
     "execution_count": 122,
     "metadata": {},
     "output_type": "execute_result"
    }
   ],
   "source": [
    "# print the accuracy after parameter optimization\n",
    "accuracy"
   ]
  },
  {
   "cell_type": "code",
   "execution_count": 123,
   "metadata": {},
   "outputs": [],
   "source": [
    "# Applying pre-pruning to the tree will stop developing\n",
    "# the tree before fiting to the training data. \n",
    "# So, stop building the tree after a certain depth has been reached. \n",
    "# Here I set max_depth =4, meaning only\n",
    "# four consecutive questions can be asked. \n",
    "# Limiting the depth of the tree decreases overfitting. \n",
    "# This lead to a lower accuracy on the training set."
   ]
  },
  {
   "cell_type": "code",
   "execution_count": 124,
   "metadata": {},
   "outputs": [],
   "source": [
    "# Visualize the tree using the export_graphviz function from the tree module\n",
    "from sklearn.tree import export_graphviz\n",
    "export_graphviz(tree, out_file=\"tree.dot\", class_names=[\"Class_1\", \"Class2\", \"Class_3\", \"Class_4\",\"Class_5\"],\n",
    "                impurity=False, filled=True)"
   ]
  },
  {
   "cell_type": "code",
   "execution_count": 125,
   "metadata": {},
   "outputs": [
    {
     "data": {
      "image/svg+xml": [
       "<?xml version=\"1.0\" encoding=\"UTF-8\" standalone=\"no\"?>\r\n",
       "<!DOCTYPE svg PUBLIC \"-//W3C//DTD SVG 1.1//EN\"\r\n",
       " \"http://www.w3.org/Graphics/SVG/1.1/DTD/svg11.dtd\">\r\n",
       "<!-- Generated by graphviz version 2.38.0 (20140413.2041)\r\n",
       " -->\r\n",
       "<!-- Title: Tree Pages: 1 -->\r\n",
       "<svg width=\"1230pt\" height=\"477pt\"\r\n",
       " viewBox=\"0.00 0.00 1230.00 477.00\" xmlns=\"http://www.w3.org/2000/svg\" xmlns:xlink=\"http://www.w3.org/1999/xlink\">\r\n",
       "<g id=\"graph0\" class=\"graph\" transform=\"scale(1 1) rotate(0) translate(4 473)\">\r\n",
       "<title>Tree</title>\r\n",
       "<polygon fill=\"white\" stroke=\"none\" points=\"-4,4 -4,-473 1226,-473 1226,4 -4,4\"/>\r\n",
       "<!-- 0 -->\r\n",
       "<g id=\"node1\" class=\"node\"><title>0</title>\r\n",
       "<polygon fill=\"#fdf6f0\" stroke=\"black\" points=\"923.5,-469 756.5,-469 756.5,-401 923.5,-401 923.5,-469\"/>\r\n",
       "<text text-anchor=\"middle\" x=\"840\" y=\"-453.8\" font-family=\"Times New Roman,serif\" font-size=\"14.00\">X[4419] &lt;= 1.708</text>\r\n",
       "<text text-anchor=\"middle\" x=\"840\" y=\"-438.8\" font-family=\"Times New Roman,serif\" font-size=\"14.00\">samples = 344</text>\r\n",
       "<text text-anchor=\"middle\" x=\"840\" y=\"-423.8\" font-family=\"Times New Roman,serif\" font-size=\"14.00\">value = [95, 75, 60, 58, 56]</text>\r\n",
       "<text text-anchor=\"middle\" x=\"840\" y=\"-408.8\" font-family=\"Times New Roman,serif\" font-size=\"14.00\">class = Class_1</text>\r\n",
       "</g>\r\n",
       "<!-- 1 -->\r\n",
       "<g id=\"node2\" class=\"node\"><title>1</title>\r\n",
       "<polygon fill=\"#f5fdef\" stroke=\"black\" points=\"836.5,-365 675.5,-365 675.5,-297 836.5,-297 836.5,-365\"/>\r\n",
       "<text text-anchor=\"middle\" x=\"756\" y=\"-349.8\" font-family=\"Times New Roman,serif\" font-size=\"14.00\">X[4686] &lt;= &#45;5.062</text>\r\n",
       "<text text-anchor=\"middle\" x=\"756\" y=\"-334.8\" font-family=\"Times New Roman,serif\" font-size=\"14.00\">samples = 250</text>\r\n",
       "<text text-anchor=\"middle\" x=\"756\" y=\"-319.8\" font-family=\"Times New Roman,serif\" font-size=\"14.00\">value = [2, 75, 60, 58, 55]</text>\r\n",
       "<text text-anchor=\"middle\" x=\"756\" y=\"-304.8\" font-family=\"Times New Roman,serif\" font-size=\"14.00\">class = Class2</text>\r\n",
       "</g>\r\n",
       "<!-- 0&#45;&gt;1 -->\r\n",
       "<g id=\"edge1\" class=\"edge\"><title>0&#45;&gt;1</title>\r\n",
       "<path fill=\"none\" stroke=\"black\" d=\"M812.728,-400.884C805.465,-392.065 797.531,-382.43 789.958,-373.235\"/>\r\n",
       "<polygon fill=\"black\" stroke=\"black\" points=\"792.482,-370.794 783.423,-365.299 787.078,-375.244 792.482,-370.794\"/>\r\n",
       "<text text-anchor=\"middle\" x=\"781.015\" y=\"-386.483\" font-family=\"Times New Roman,serif\" font-size=\"14.00\">True</text>\r\n",
       "</g>\r\n",
       "<!-- 16 -->\r\n",
       "<g id=\"node17\" class=\"node\"><title>16</title>\r\n",
       "<polygon fill=\"#e5823b\" stroke=\"black\" points=\"995,-365 855,-365 855,-297 995,-297 995,-365\"/>\r\n",
       "<text text-anchor=\"middle\" x=\"925\" y=\"-349.8\" font-family=\"Times New Roman,serif\" font-size=\"14.00\">X[3919] &lt;= &#45;7.707</text>\r\n",
       "<text text-anchor=\"middle\" x=\"925\" y=\"-334.8\" font-family=\"Times New Roman,serif\" font-size=\"14.00\">samples = 94</text>\r\n",
       "<text text-anchor=\"middle\" x=\"925\" y=\"-319.8\" font-family=\"Times New Roman,serif\" font-size=\"14.00\">value = [93, 0, 0, 0, 1]</text>\r\n",
       "<text text-anchor=\"middle\" x=\"925\" y=\"-304.8\" font-family=\"Times New Roman,serif\" font-size=\"14.00\">class = Class_1</text>\r\n",
       "</g>\r\n",
       "<!-- 0&#45;&gt;16 -->\r\n",
       "<g id=\"edge16\" class=\"edge\"><title>0&#45;&gt;16</title>\r\n",
       "<path fill=\"none\" stroke=\"black\" d=\"M867.597,-400.884C874.946,-392.065 882.975,-382.43 890.637,-373.235\"/>\r\n",
       "<polygon fill=\"black\" stroke=\"black\" points=\"893.537,-375.222 897.251,-365.299 888.16,-370.741 893.537,-375.222\"/>\r\n",
       "<text text-anchor=\"middle\" x=\"899.514\" y=\"-386.497\" font-family=\"Times New Roman,serif\" font-size=\"14.00\">False</text>\r\n",
       "</g>\r\n",
       "<!-- 2 -->\r\n",
       "<g id=\"node3\" class=\"node\"><title>2</title>\r\n",
       "<polygon fill=\"#4ae7ca\" stroke=\"black\" points=\"521,-261 381,-261 381,-193 521,-193 521,-261\"/>\r\n",
       "<text text-anchor=\"middle\" x=\"451\" y=\"-245.8\" font-family=\"Times New Roman,serif\" font-size=\"14.00\">X[437] &lt;= &#45;3.348</text>\r\n",
       "<text text-anchor=\"middle\" x=\"451\" y=\"-230.8\" font-family=\"Times New Roman,serif\" font-size=\"14.00\">samples = 62</text>\r\n",
       "<text text-anchor=\"middle\" x=\"451\" y=\"-215.8\" font-family=\"Times New Roman,serif\" font-size=\"14.00\">value = [0, 1, 57, 1, 3]</text>\r\n",
       "<text text-anchor=\"middle\" x=\"451\" y=\"-200.8\" font-family=\"Times New Roman,serif\" font-size=\"14.00\">class = Class_3</text>\r\n",
       "</g>\r\n",
       "<!-- 1&#45;&gt;2 -->\r\n",
       "<g id=\"edge2\" class=\"edge\"><title>1&#45;&gt;2</title>\r\n",
       "<path fill=\"none\" stroke=\"black\" d=\"M675.466,-303.067C630.742,-288.111 575.304,-269.571 530.713,-254.658\"/>\r\n",
       "<polygon fill=\"black\" stroke=\"black\" points=\"531.675,-251.289 521.081,-251.437 529.454,-257.928 531.675,-251.289\"/>\r\n",
       "</g>\r\n",
       "<!-- 9 -->\r\n",
       "<g id=\"node10\" class=\"node\"><title>9</title>\r\n",
       "<polygon fill=\"#eefce5\" stroke=\"black\" points=\"835,-261 681,-261 681,-193 835,-193 835,-261\"/>\r\n",
       "<text text-anchor=\"middle\" x=\"758\" y=\"-245.8\" font-family=\"Times New Roman,serif\" font-size=\"14.00\">X[2810] &lt;= &#45;4.827</text>\r\n",
       "<text text-anchor=\"middle\" x=\"758\" y=\"-230.8\" font-family=\"Times New Roman,serif\" font-size=\"14.00\">samples = 188</text>\r\n",
       "<text text-anchor=\"middle\" x=\"758\" y=\"-215.8\" font-family=\"Times New Roman,serif\" font-size=\"14.00\">value = [2, 74, 3, 57, 52]</text>\r\n",
       "<text text-anchor=\"middle\" x=\"758\" y=\"-200.8\" font-family=\"Times New Roman,serif\" font-size=\"14.00\">class = Class2</text>\r\n",
       "</g>\r\n",
       "<!-- 1&#45;&gt;9 -->\r\n",
       "<g id=\"edge9\" class=\"edge\"><title>1&#45;&gt;9</title>\r\n",
       "<path fill=\"none\" stroke=\"black\" d=\"M756.649,-296.884C756.808,-288.778 756.981,-279.982 757.148,-271.472\"/>\r\n",
       "<polygon fill=\"black\" stroke=\"black\" points=\"760.65,-271.366 757.347,-261.299 753.652,-271.229 760.65,-271.366\"/>\r\n",
       "</g>\r\n",
       "<!-- 3 -->\r\n",
       "<g id=\"node4\" class=\"node\"><title>3</title>\r\n",
       "<polygon fill=\"#ee7bd5\" stroke=\"black\" points=\"286,-157 152,-157 152,-89 286,-89 286,-157\"/>\r\n",
       "<text text-anchor=\"middle\" x=\"219\" y=\"-141.8\" font-family=\"Times New Roman,serif\" font-size=\"14.00\">X[3389] &lt;= 1.411</text>\r\n",
       "<text text-anchor=\"middle\" x=\"219\" y=\"-126.8\" font-family=\"Times New Roman,serif\" font-size=\"14.00\">samples = 4</text>\r\n",
       "<text text-anchor=\"middle\" x=\"219\" y=\"-111.8\" font-family=\"Times New Roman,serif\" font-size=\"14.00\">value = [0, 0, 0, 1, 3]</text>\r\n",
       "<text text-anchor=\"middle\" x=\"219\" y=\"-96.8\" font-family=\"Times New Roman,serif\" font-size=\"14.00\">class = Class_5</text>\r\n",
       "</g>\r\n",
       "<!-- 2&#45;&gt;3 -->\r\n",
       "<g id=\"edge3\" class=\"edge\"><title>2&#45;&gt;3</title>\r\n",
       "<path fill=\"none\" stroke=\"black\" d=\"M380.763,-195.12C353.803,-183.267 322.916,-169.687 295.405,-157.592\"/>\r\n",
       "<polygon fill=\"black\" stroke=\"black\" points=\"296.778,-154.372 286.215,-153.551 293.96,-160.78 296.778,-154.372\"/>\r\n",
       "</g>\r\n",
       "<!-- 6 -->\r\n",
       "<g id=\"node7\" class=\"node\"><title>6</title>\r\n",
       "<polygon fill=\"#3ce5c6\" stroke=\"black\" points=\"521,-157 381,-157 381,-89 521,-89 521,-157\"/>\r\n",
       "<text text-anchor=\"middle\" x=\"451\" y=\"-141.8\" font-family=\"Times New Roman,serif\" font-size=\"14.00\">X[5228] &lt;= 5.916</text>\r\n",
       "<text text-anchor=\"middle\" x=\"451\" y=\"-126.8\" font-family=\"Times New Roman,serif\" font-size=\"14.00\">samples = 58</text>\r\n",
       "<text text-anchor=\"middle\" x=\"451\" y=\"-111.8\" font-family=\"Times New Roman,serif\" font-size=\"14.00\">value = [0, 1, 57, 0, 0]</text>\r\n",
       "<text text-anchor=\"middle\" x=\"451\" y=\"-96.8\" font-family=\"Times New Roman,serif\" font-size=\"14.00\">class = Class_3</text>\r\n",
       "</g>\r\n",
       "<!-- 2&#45;&gt;6 -->\r\n",
       "<g id=\"edge6\" class=\"edge\"><title>2&#45;&gt;6</title>\r\n",
       "<path fill=\"none\" stroke=\"black\" d=\"M451,-192.884C451,-184.778 451,-175.982 451,-167.472\"/>\r\n",
       "<polygon fill=\"black\" stroke=\"black\" points=\"454.5,-167.299 451,-157.299 447.5,-167.299 454.5,-167.299\"/>\r\n",
       "</g>\r\n",
       "<!-- 4 -->\r\n",
       "<g id=\"node5\" class=\"node\"><title>4</title>\r\n",
       "<polygon fill=\"#e539c0\" stroke=\"black\" points=\"134,-53 0,-53 0,-0 134,-0 134,-53\"/>\r\n",
       "<text text-anchor=\"middle\" x=\"67\" y=\"-37.8\" font-family=\"Times New Roman,serif\" font-size=\"14.00\">samples = 3</text>\r\n",
       "<text text-anchor=\"middle\" x=\"67\" y=\"-22.8\" font-family=\"Times New Roman,serif\" font-size=\"14.00\">value = [0, 0, 0, 0, 3]</text>\r\n",
       "<text text-anchor=\"middle\" x=\"67\" y=\"-7.8\" font-family=\"Times New Roman,serif\" font-size=\"14.00\">class = Class_5</text>\r\n",
       "</g>\r\n",
       "<!-- 3&#45;&gt;4 -->\r\n",
       "<g id=\"edge4\" class=\"edge\"><title>3&#45;&gt;4</title>\r\n",
       "<path fill=\"none\" stroke=\"black\" d=\"M165.838,-88.9485C149.946,-79.0686 132.586,-68.2758 116.911,-58.5305\"/>\r\n",
       "<polygon fill=\"black\" stroke=\"black\" points=\"118.737,-55.5443 108.397,-53.2367 115.041,-61.489 118.737,-55.5443\"/>\r\n",
       "</g>\r\n",
       "<!-- 5 -->\r\n",
       "<g id=\"node6\" class=\"node\"><title>5</title>\r\n",
       "<polygon fill=\"#3c39e5\" stroke=\"black\" points=\"286,-53 152,-53 152,-0 286,-0 286,-53\"/>\r\n",
       "<text text-anchor=\"middle\" x=\"219\" y=\"-37.8\" font-family=\"Times New Roman,serif\" font-size=\"14.00\">samples = 1</text>\r\n",
       "<text text-anchor=\"middle\" x=\"219\" y=\"-22.8\" font-family=\"Times New Roman,serif\" font-size=\"14.00\">value = [0, 0, 0, 1, 0]</text>\r\n",
       "<text text-anchor=\"middle\" x=\"219\" y=\"-7.8\" font-family=\"Times New Roman,serif\" font-size=\"14.00\">class = Class_4</text>\r\n",
       "</g>\r\n",
       "<!-- 3&#45;&gt;5 -->\r\n",
       "<g id=\"edge5\" class=\"edge\"><title>3&#45;&gt;5</title>\r\n",
       "<path fill=\"none\" stroke=\"black\" d=\"M219,-88.9485C219,-80.7153 219,-71.848 219,-63.4814\"/>\r\n",
       "<polygon fill=\"black\" stroke=\"black\" points=\"222.5,-63.2367 219,-53.2367 215.5,-63.2367 222.5,-63.2367\"/>\r\n",
       "</g>\r\n",
       "<!-- 7 -->\r\n",
       "<g id=\"node8\" class=\"node\"><title>7</title>\r\n",
       "<polygon fill=\"#39e5c5\" stroke=\"black\" points=\"444,-53 304,-53 304,-0 444,-0 444,-53\"/>\r\n",
       "<text text-anchor=\"middle\" x=\"374\" y=\"-37.8\" font-family=\"Times New Roman,serif\" font-size=\"14.00\">samples = 57</text>\r\n",
       "<text text-anchor=\"middle\" x=\"374\" y=\"-22.8\" font-family=\"Times New Roman,serif\" font-size=\"14.00\">value = [0, 0, 57, 0, 0]</text>\r\n",
       "<text text-anchor=\"middle\" x=\"374\" y=\"-7.8\" font-family=\"Times New Roman,serif\" font-size=\"14.00\">class = Class_3</text>\r\n",
       "</g>\r\n",
       "<!-- 6&#45;&gt;7 -->\r\n",
       "<g id=\"edge7\" class=\"edge\"><title>6&#45;&gt;7</title>\r\n",
       "<path fill=\"none\" stroke=\"black\" d=\"M424.069,-88.9485C416.764,-79.9834 408.847,-70.2666 401.511,-61.2629\"/>\r\n",
       "<polygon fill=\"black\" stroke=\"black\" points=\"404.001,-58.7782 394.971,-53.2367 398.574,-63.1999 404.001,-58.7782\"/>\r\n",
       "</g>\r\n",
       "<!-- 8 -->\r\n",
       "<g id=\"node9\" class=\"node\"><title>8</title>\r\n",
       "<polygon fill=\"#7be539\" stroke=\"black\" points=\"596,-53 462,-53 462,-0 596,-0 596,-53\"/>\r\n",
       "<text text-anchor=\"middle\" x=\"529\" y=\"-37.8\" font-family=\"Times New Roman,serif\" font-size=\"14.00\">samples = 1</text>\r\n",
       "<text text-anchor=\"middle\" x=\"529\" y=\"-22.8\" font-family=\"Times New Roman,serif\" font-size=\"14.00\">value = [0, 1, 0, 0, 0]</text>\r\n",
       "<text text-anchor=\"middle\" x=\"529\" y=\"-7.8\" font-family=\"Times New Roman,serif\" font-size=\"14.00\">class = Class2</text>\r\n",
       "</g>\r\n",
       "<!-- 6&#45;&gt;8 -->\r\n",
       "<g id=\"edge8\" class=\"edge\"><title>6&#45;&gt;8</title>\r\n",
       "<path fill=\"none\" stroke=\"black\" d=\"M478.281,-88.9485C485.756,-79.892 493.864,-70.0682 501.36,-60.9875\"/>\r\n",
       "<polygon fill=\"black\" stroke=\"black\" points=\"504.091,-63.1769 507.757,-53.2367 498.692,-58.721 504.091,-63.1769\"/>\r\n",
       "</g>\r\n",
       "<!-- 10 -->\r\n",
       "<g id=\"node11\" class=\"node\"><title>10</title>\r\n",
       "<polygon fill=\"#e745c4\" stroke=\"black\" points=\"828,-157 688,-157 688,-89 828,-89 828,-157\"/>\r\n",
       "<text text-anchor=\"middle\" x=\"758\" y=\"-141.8\" font-family=\"Times New Roman,serif\" font-size=\"14.00\">X[231] &lt;= 1.468</text>\r\n",
       "<text text-anchor=\"middle\" x=\"758\" y=\"-126.8\" font-family=\"Times New Roman,serif\" font-size=\"14.00\">samples = 51</text>\r\n",
       "<text text-anchor=\"middle\" x=\"758\" y=\"-111.8\" font-family=\"Times New Roman,serif\" font-size=\"14.00\">value = [1, 0, 0, 2, 48]</text>\r\n",
       "<text text-anchor=\"middle\" x=\"758\" y=\"-96.8\" font-family=\"Times New Roman,serif\" font-size=\"14.00\">class = Class_5</text>\r\n",
       "</g>\r\n",
       "<!-- 9&#45;&gt;10 -->\r\n",
       "<g id=\"edge10\" class=\"edge\"><title>9&#45;&gt;10</title>\r\n",
       "<path fill=\"none\" stroke=\"black\" d=\"M758,-192.884C758,-184.778 758,-175.982 758,-167.472\"/>\r\n",
       "<polygon fill=\"black\" stroke=\"black\" points=\"761.5,-167.299 758,-157.299 754.5,-167.299 761.5,-167.299\"/>\r\n",
       "</g>\r\n",
       "<!-- 13 -->\r\n",
       "<g id=\"node14\" class=\"node\"><title>13</title>\r\n",
       "<polygon fill=\"#e0f9d1\" stroke=\"black\" points=\"1067.5,-157 920.5,-157 920.5,-89 1067.5,-89 1067.5,-157\"/>\r\n",
       "<text text-anchor=\"middle\" x=\"994\" y=\"-141.8\" font-family=\"Times New Roman,serif\" font-size=\"14.00\">X[380] &lt;= 3.544</text>\r\n",
       "<text text-anchor=\"middle\" x=\"994\" y=\"-126.8\" font-family=\"Times New Roman,serif\" font-size=\"14.00\">samples = 137</text>\r\n",
       "<text text-anchor=\"middle\" x=\"994\" y=\"-111.8\" font-family=\"Times New Roman,serif\" font-size=\"14.00\">value = [1, 74, 3, 55, 4]</text>\r\n",
       "<text text-anchor=\"middle\" x=\"994\" y=\"-96.8\" font-family=\"Times New Roman,serif\" font-size=\"14.00\">class = Class2</text>\r\n",
       "</g>\r\n",
       "<!-- 9&#45;&gt;13 -->\r\n",
       "<g id=\"edge13\" class=\"edge\"><title>9&#45;&gt;13</title>\r\n",
       "<path fill=\"none\" stroke=\"black\" d=\"M834.622,-192.884C858.969,-182.361 886.006,-170.676 910.793,-159.962\"/>\r\n",
       "<polygon fill=\"black\" stroke=\"black\" points=\"912.382,-163.089 920.173,-155.908 909.605,-156.663 912.382,-163.089\"/>\r\n",
       "</g>\r\n",
       "<!-- 11 -->\r\n",
       "<g id=\"node12\" class=\"node\"><title>11</title>\r\n",
       "<polygon fill=\"#e63dc1\" stroke=\"black\" points=\"754,-53 614,-53 614,-0 754,-0 754,-53\"/>\r\n",
       "<text text-anchor=\"middle\" x=\"684\" y=\"-37.8\" font-family=\"Times New Roman,serif\" font-size=\"14.00\">samples = 49</text>\r\n",
       "<text text-anchor=\"middle\" x=\"684\" y=\"-22.8\" font-family=\"Times New Roman,serif\" font-size=\"14.00\">value = [1, 0, 0, 0, 48]</text>\r\n",
       "<text text-anchor=\"middle\" x=\"684\" y=\"-7.8\" font-family=\"Times New Roman,serif\" font-size=\"14.00\">class = Class_5</text>\r\n",
       "</g>\r\n",
       "<!-- 10&#45;&gt;11 -->\r\n",
       "<g id=\"edge11\" class=\"edge\"><title>10&#45;&gt;11</title>\r\n",
       "<path fill=\"none\" stroke=\"black\" d=\"M732.118,-88.9485C725.098,-79.9834 717.489,-70.2666 710.439,-61.2629\"/>\r\n",
       "<polygon fill=\"black\" stroke=\"black\" points=\"713.075,-58.9521 704.154,-53.2367 707.563,-63.2679 713.075,-58.9521\"/>\r\n",
       "</g>\r\n",
       "<!-- 12 -->\r\n",
       "<g id=\"node13\" class=\"node\"><title>12</title>\r\n",
       "<polygon fill=\"#3c39e5\" stroke=\"black\" points=\"906,-53 772,-53 772,-0 906,-0 906,-53\"/>\r\n",
       "<text text-anchor=\"middle\" x=\"839\" y=\"-37.8\" font-family=\"Times New Roman,serif\" font-size=\"14.00\">samples = 2</text>\r\n",
       "<text text-anchor=\"middle\" x=\"839\" y=\"-22.8\" font-family=\"Times New Roman,serif\" font-size=\"14.00\">value = [0, 0, 0, 2, 0]</text>\r\n",
       "<text text-anchor=\"middle\" x=\"839\" y=\"-7.8\" font-family=\"Times New Roman,serif\" font-size=\"14.00\">class = Class_4</text>\r\n",
       "</g>\r\n",
       "<!-- 10&#45;&gt;12 -->\r\n",
       "<g id=\"edge12\" class=\"edge\"><title>10&#45;&gt;12</title>\r\n",
       "<path fill=\"none\" stroke=\"black\" d=\"M786.33,-88.9485C794.093,-79.892 802.513,-70.0682 810.296,-60.9875\"/>\r\n",
       "<polygon fill=\"black\" stroke=\"black\" points=\"813.089,-63.1071 816.94,-53.2367 807.775,-58.5515 813.089,-63.1071\"/>\r\n",
       "</g>\r\n",
       "<!-- 14 -->\r\n",
       "<g id=\"node15\" class=\"node\"><title>14</title>\r\n",
       "<polygon fill=\"#8de954\" stroke=\"black\" points=\"1064,-53 924,-53 924,-0 1064,-0 1064,-53\"/>\r\n",
       "<text text-anchor=\"middle\" x=\"994\" y=\"-37.8\" font-family=\"Times New Roman,serif\" font-size=\"14.00\">samples = 85</text>\r\n",
       "<text text-anchor=\"middle\" x=\"994\" y=\"-22.8\" font-family=\"Times New Roman,serif\" font-size=\"14.00\">value = [1, 74, 3, 3, 4]</text>\r\n",
       "<text text-anchor=\"middle\" x=\"994\" y=\"-7.8\" font-family=\"Times New Roman,serif\" font-size=\"14.00\">class = Class2</text>\r\n",
       "</g>\r\n",
       "<!-- 13&#45;&gt;14 -->\r\n",
       "<g id=\"edge14\" class=\"edge\"><title>13&#45;&gt;14</title>\r\n",
       "<path fill=\"none\" stroke=\"black\" d=\"M994,-88.9485C994,-80.7153 994,-71.848 994,-63.4814\"/>\r\n",
       "<polygon fill=\"black\" stroke=\"black\" points=\"997.5,-63.2367 994,-53.2367 990.5,-63.2367 997.5,-63.2367\"/>\r\n",
       "</g>\r\n",
       "<!-- 15 -->\r\n",
       "<g id=\"node16\" class=\"node\"><title>15</title>\r\n",
       "<polygon fill=\"#3c39e5\" stroke=\"black\" points=\"1222,-53 1082,-53 1082,-0 1222,-0 1222,-53\"/>\r\n",
       "<text text-anchor=\"middle\" x=\"1152\" y=\"-37.8\" font-family=\"Times New Roman,serif\" font-size=\"14.00\">samples = 52</text>\r\n",
       "<text text-anchor=\"middle\" x=\"1152\" y=\"-22.8\" font-family=\"Times New Roman,serif\" font-size=\"14.00\">value = [0, 0, 0, 52, 0]</text>\r\n",
       "<text text-anchor=\"middle\" x=\"1152\" y=\"-7.8\" font-family=\"Times New Roman,serif\" font-size=\"14.00\">class = Class_4</text>\r\n",
       "</g>\r\n",
       "<!-- 13&#45;&gt;15 -->\r\n",
       "<g id=\"edge15\" class=\"edge\"><title>13&#45;&gt;15</title>\r\n",
       "<path fill=\"none\" stroke=\"black\" d=\"M1049.26,-88.9485C1065.85,-79.0237 1083.99,-68.1776 1100.34,-58.3977\"/>\r\n",
       "<polygon fill=\"black\" stroke=\"black\" points=\"1102.43,-61.2234 1109.22,-53.0867 1098.84,-55.216 1102.43,-61.2234\"/>\r\n",
       "</g>\r\n",
       "<!-- 17 -->\r\n",
       "<g id=\"node18\" class=\"node\"><title>17</title>\r\n",
       "<polygon fill=\"#e539c0\" stroke=\"black\" points=\"990,-253.5 856,-253.5 856,-200.5 990,-200.5 990,-253.5\"/>\r\n",
       "<text text-anchor=\"middle\" x=\"923\" y=\"-238.3\" font-family=\"Times New Roman,serif\" font-size=\"14.00\">samples = 1</text>\r\n",
       "<text text-anchor=\"middle\" x=\"923\" y=\"-223.3\" font-family=\"Times New Roman,serif\" font-size=\"14.00\">value = [0, 0, 0, 0, 1]</text>\r\n",
       "<text text-anchor=\"middle\" x=\"923\" y=\"-208.3\" font-family=\"Times New Roman,serif\" font-size=\"14.00\">class = Class_5</text>\r\n",
       "</g>\r\n",
       "<!-- 16&#45;&gt;17 -->\r\n",
       "<g id=\"edge17\" class=\"edge\"><title>16&#45;&gt;17</title>\r\n",
       "<path fill=\"none\" stroke=\"black\" d=\"M924.351,-296.884C924.141,-286.216 923.909,-274.352 923.696,-263.519\"/>\r\n",
       "<polygon fill=\"black\" stroke=\"black\" points=\"927.196,-263.449 923.5,-253.52 920.197,-263.587 927.196,-263.449\"/>\r\n",
       "</g>\r\n",
       "<!-- 18 -->\r\n",
       "<g id=\"node19\" class=\"node\"><title>18</title>\r\n",
       "<polygon fill=\"#e58139\" stroke=\"black\" points=\"1148,-253.5 1008,-253.5 1008,-200.5 1148,-200.5 1148,-253.5\"/>\r\n",
       "<text text-anchor=\"middle\" x=\"1078\" y=\"-238.3\" font-family=\"Times New Roman,serif\" font-size=\"14.00\">samples = 93</text>\r\n",
       "<text text-anchor=\"middle\" x=\"1078\" y=\"-223.3\" font-family=\"Times New Roman,serif\" font-size=\"14.00\">value = [93, 0, 0, 0, 0]</text>\r\n",
       "<text text-anchor=\"middle\" x=\"1078\" y=\"-208.3\" font-family=\"Times New Roman,serif\" font-size=\"14.00\">class = Class_1</text>\r\n",
       "</g>\r\n",
       "<!-- 16&#45;&gt;18 -->\r\n",
       "<g id=\"edge18\" class=\"edge\"><title>16&#45;&gt;18</title>\r\n",
       "<path fill=\"none\" stroke=\"black\" d=\"M974.675,-296.884C992.821,-284.786 1013.27,-271.151 1031.16,-259.224\"/>\r\n",
       "<polygon fill=\"black\" stroke=\"black\" points=\"1033.34,-261.979 1039.72,-253.52 1029.46,-256.155 1033.34,-261.979\"/>\r\n",
       "</g>\r\n",
       "</g>\r\n",
       "</svg>\r\n"
      ],
      "text/plain": [
       "<graphviz.files.Source at 0x2ad6e900f48>"
      ]
     },
     "execution_count": 125,
     "metadata": {},
     "output_type": "execute_result"
    }
   ],
   "source": [
    "# Visualization of the decision tree built:\n",
    "# Read the file and visualize it, using the graphviz module\n",
    "import graphviz\n",
    "with open(\"tree.dot\") as f:\n",
    "    dot_graph = f.read()\n",
    "graphviz.Source(dot_graph)"
   ]
  },
  {
   "cell_type": "code",
   "execution_count": 126,
   "metadata": {},
   "outputs": [
    {
     "data": {
      "text/plain": [
       "RandomForestClassifier(bootstrap=True, ccp_alpha=0.0, class_weight=None,\n",
       "                       criterion='gini', max_depth=None, max_features='auto',\n",
       "                       max_leaf_nodes=None, max_samples=None,\n",
       "                       min_impurity_decrease=0.0, min_impurity_split=None,\n",
       "                       min_samples_leaf=1, min_samples_split=2,\n",
       "                       min_weight_fraction_leaf=0.0, n_estimators=10,\n",
       "                       n_jobs=None, oob_score=False, random_state=2, verbose=0,\n",
       "                       warm_start=False)"
      ]
     },
     "execution_count": 126,
     "metadata": {},
     "output_type": "execute_result"
    }
   ],
   "source": [
    "# Now, building a random forest consisting of 10 trees on the data\n",
    "# The choice of 10 trees is Arbitrary.\n",
    "forest = RandomForestClassifier(n_estimators= 10, random_state=2)\n",
    "forest.fit(X_train, y_train)"
   ]
  },
  {
   "cell_type": "code",
   "execution_count": 127,
   "metadata": {},
   "outputs": [],
   "source": [
    "# The trees that are built as part of the random forest are stored in the estimator_ attribute. \n",
    "# Visualize the decision boundaries learned by each tree, together with\n",
    "# their aggregate prediction as made by the forest"
   ]
  },
  {
   "cell_type": "code",
   "execution_count": 128,
   "metadata": {},
   "outputs": [
    {
     "name": "stdout",
     "output_type": "stream",
     "text": [
      "Accuracy on training set: 1.000\n",
      "Accuracy on test set: 0.919\n"
     ]
    }
   ],
   "source": [
    "print(\"Accuracy on training set: {:.3f}\".format(forest.score(X_train, y_train)))\n",
    "print(\"Accuracy on test set: {:.3f}\".format(forest.score(X_test, y_test)))"
   ]
  },
  {
   "cell_type": "code",
   "execution_count": 141,
   "metadata": {},
   "outputs": [],
   "source": [
    "# from using the RandomForestClassifier above,\n",
    "# I can see that the accuracy of the test set\n",
    "# greatly improve from 0.86 in the decision tree\n",
    "# to 0.919 "
   ]
  },
  {
   "cell_type": "code",
   "execution_count": 142,
   "metadata": {},
   "outputs": [],
   "source": [
    "# The random forest gave an accuracy of 91%,\n",
    "# without tuning any parameters. I could adjust the max_features setting, \n",
    "# or apply pre-pruning as for the single decision tree.\n",
    "# Often the default parameters of the random forest already work quite well."
   ]
  },
  {
   "cell_type": "code",
   "execution_count": 143,
   "metadata": {},
   "outputs": [],
   "source": [
    "# Random forests for regression and classification are\n",
    "# among the most widely used machine learning methods. They are\n",
    "# very powerful, often work well without heavy tuning of the parameters, \n",
    "# and don’t require scaling of the data."
   ]
  },
  {
   "cell_type": "code",
   "execution_count": 144,
   "metadata": {},
   "outputs": [],
   "source": [
    "# Parameter optimization, to evaluate the performance of \n",
    "# a random forest.\n",
    "# User GridsearchCV classifier for finding the best parameters\n",
    "initial_param = {\n",
    "    \"n_estimators\" : [1,10,20, 30, 50, 100, None],\n",
    "    \"criterion\":[\"gini\"],\n",
    "}\n",
    "grid = GridSearchCV(forest, param_grid = initial_param, cv = 5, n_jobs = -1)"
   ]
  },
  {
   "cell_type": "code",
   "execution_count": 145,
   "metadata": {},
   "outputs": [
    {
     "data": {
      "text/plain": [
       "GridSearchCV(cv=5, error_score=nan,\n",
       "             estimator=RandomForestClassifier(bootstrap=True, ccp_alpha=0.0,\n",
       "                                              class_weight=None,\n",
       "                                              criterion='gini', max_depth=None,\n",
       "                                              max_features='auto',\n",
       "                                              max_leaf_nodes=None,\n",
       "                                              max_samples=None,\n",
       "                                              min_impurity_decrease=0.0,\n",
       "                                              min_impurity_split=None,\n",
       "                                              min_samples_leaf=1,\n",
       "                                              min_samples_split=2,\n",
       "                                              min_weight_fraction_leaf=0.0,\n",
       "                                              n_estimators=100, n_jobs=None,\n",
       "                                              oob_score=False, random_state=2,\n",
       "                                              verbose=0, warm_start=False),\n",
       "             iid='deprecated', n_jobs=-1,\n",
       "             param_grid={'criterion': ['gini'],\n",
       "                         'n_estimators': [1, 10, 20, 30, 50, 100, None]},\n",
       "             pre_dispatch='2*n_jobs', refit=True, return_train_score=False,\n",
       "             scoring=None, verbose=0)"
      ]
     },
     "execution_count": 145,
     "metadata": {},
     "output_type": "execute_result"
    }
   ],
   "source": [
    "# fit the grid with training data set.\n",
    "grid.fit(X_train, y_train)"
   ]
  },
  {
   "cell_type": "code",
   "execution_count": 146,
   "metadata": {},
   "outputs": [
    {
     "data": {
      "text/plain": [
       "RandomForestClassifier(bootstrap=True, ccp_alpha=0.0, class_weight=None,\n",
       "                       criterion='gini', max_depth=None, max_features='auto',\n",
       "                       max_leaf_nodes=None, max_samples=None,\n",
       "                       min_impurity_decrease=0.0, min_impurity_split=None,\n",
       "                       min_samples_leaf=1, min_samples_split=2,\n",
       "                       min_weight_fraction_leaf=0.0, n_estimators=100,\n",
       "                       n_jobs=None, oob_score=False, random_state=2, verbose=0,\n",
       "                       warm_start=False)"
      ]
     },
     "execution_count": 146,
     "metadata": {},
     "output_type": "execute_result"
    }
   ],
   "source": [
    "# Finding GridSearch best estimator for random forest\n",
    "grid.best_estimator_"
   ]
  },
  {
   "cell_type": "code",
   "execution_count": 147,
   "metadata": {},
   "outputs": [
    {
     "data": {
      "text/plain": [
       "0.9681159420289855"
      ]
     },
     "execution_count": 147,
     "metadata": {},
     "output_type": "execute_result"
    }
   ],
   "source": [
    "# Grid Search best score for the random forest\n",
    "grid.best_score_"
   ]
  },
  {
   "cell_type": "code",
   "execution_count": 154,
   "metadata": {},
   "outputs": [],
   "source": [
    "# As I can see, after using GridSearchCV,\n",
    "# the randomForestClassifier's score greatly\n",
    "# improved from 0.91 to .96 (this is the best_score though)"
   ]
  },
  {
   "cell_type": "code",
   "execution_count": 155,
   "metadata": {},
   "outputs": [
    {
     "data": {
      "text/plain": [
       "{'criterion': 'gini', 'n_estimators': 100}"
      ]
     },
     "execution_count": 155,
     "metadata": {},
     "output_type": "execute_result"
    }
   ],
   "source": [
    "# Grid Search best parameters for random forest\n",
    "grid.best_params_"
   ]
  },
  {
   "cell_type": "code",
   "execution_count": 156,
   "metadata": {},
   "outputs": [
    {
     "data": {
      "text/plain": [
       "RandomForestClassifier(bootstrap=True, ccp_alpha=0.0, class_weight=None,\n",
       "                       criterion='gini', max_depth=None, max_features='auto',\n",
       "                       max_leaf_nodes=None, max_samples=None,\n",
       "                       min_impurity_decrease=0.0, min_impurity_split=None,\n",
       "                       min_samples_leaf=1, min_samples_split=2,\n",
       "                       min_weight_fraction_leaf=0.0, n_estimators=100,\n",
       "                       n_jobs=None, oob_score=False, random_state=2, verbose=0,\n",
       "                       warm_start=False)"
      ]
     },
     "execution_count": 156,
     "metadata": {},
     "output_type": "execute_result"
    }
   ],
   "source": [
    "# buidling a random forest consisting of 100 trees on the data\n",
    "forest = RandomForestClassifier(criterion= 'gini', n_estimators= 100, random_state=2)\n",
    "forest.fit(X_train, y_train)"
   ]
  },
  {
   "cell_type": "code",
   "execution_count": 157,
   "metadata": {},
   "outputs": [],
   "source": [
    "# find the accuracy of the prediction of the forest test data.\n",
    "y_pred = forest.predict(X_test)"
   ]
  },
  {
   "cell_type": "code",
   "execution_count": 158,
   "metadata": {},
   "outputs": [
    {
     "data": {
      "text/plain": [
       "0.9651162790697675"
      ]
     },
     "execution_count": 158,
     "metadata": {},
     "output_type": "execute_result"
    }
   ],
   "source": [
    "# accuracy of the forest\n",
    "accuracy = accuracy_score(y_test, y_pred)\n",
    "accuracy"
   ]
  },
  {
   "cell_type": "code",
   "execution_count": 160,
   "metadata": {},
   "outputs": [],
   "source": [
    "# After using gridSearchCV, the RandomForestClassifier\n",
    "# gave 0.96 accuracy of the test set."
   ]
  },
  {
   "cell_type": "code",
   "execution_count": null,
   "metadata": {},
   "outputs": [],
   "source": []
  }
 ],
 "metadata": {
  "kernelspec": {
   "display_name": "Python 3",
   "language": "python",
   "name": "python3"
  },
  "language_info": {
   "codemirror_mode": {
    "name": "ipython",
    "version": 3
   },
   "file_extension": ".py",
   "mimetype": "text/x-python",
   "name": "python",
   "nbconvert_exporter": "python",
   "pygments_lexer": "ipython3",
   "version": "3.7.6"
  }
 },
 "nbformat": 4,
 "nbformat_minor": 4
}
