{
 "cells": [
  {
   "cell_type": "code",
   "execution_count": 8,
   "metadata": {},
   "outputs": [],
   "source": [
    "# Yasir Hassan\n",
    "# Writing Assignment\n",
    "# KNN with Parameter Optimization\n",
    "# To classify the 5 classes of SingleCell-Seq \n",
    "# using the database Data_Glioblastoma5Patients_SC"
   ]
  },
  {
   "cell_type": "code",
   "execution_count": 9,
   "metadata": {},
   "outputs": [],
   "source": [
    "# import libraries\n",
    "from sklearn.neighbors import KNeighborsClassifier\n",
    "import numpy as np\n",
    "from keras.utils import np_utils\n",
    "from sklearn.model_selection import train_test_split\n",
    "import cv2\n",
    "import scipy\n",
    "import numpy as np\n",
    "import pandas as pd\n",
    "import os\n",
    "%matplotlib inline\n",
    "import matplotlib.pyplot as plt\n",
    "from sklearn.model_selection import GridSearchCV "
   ]
  },
  {
   "cell_type": "code",
   "execution_count": 10,
   "metadata": {},
   "outputs": [],
   "source": [
    "# read the dataset\\n\",\n",
    "readdata = pd.read_csv(r\"C:\\Users\\NeverGiveUp\\Desktop\\Writing_File\\Data_Glioblastoma5Patients_SC.csv\")\n",
    "df = pd.DataFrame(readdata)   "
   ]
  },
  {
   "cell_type": "code",
   "execution_count": 11,
   "metadata": {},
   "outputs": [],
   "source": [
    "correct_Pattern_labels = df['Classes'].values"
   ]
  },
  {
   "cell_type": "code",
   "execution_count": 12,
   "metadata": {},
   "outputs": [
    {
     "data": {
      "text/html": [
       "<div>\n",
       "<style scoped>\n",
       "    .dataframe tbody tr th:only-of-type {\n",
       "        vertical-align: middle;\n",
       "    }\n",
       "\n",
       "    .dataframe tbody tr th {\n",
       "        vertical-align: top;\n",
       "    }\n",
       "\n",
       "    .dataframe thead th {\n",
       "        text-align: right;\n",
       "    }\n",
       "</style>\n",
       "<table border=\"1\" class=\"dataframe\">\n",
       "  <thead>\n",
       "    <tr style=\"text-align: right;\">\n",
       "      <th></th>\n",
       "      <th>A2M</th>\n",
       "      <th>AAAS</th>\n",
       "      <th>AAK1</th>\n",
       "      <th>AAMP</th>\n",
       "      <th>AARS</th>\n",
       "      <th>AARSD1</th>\n",
       "      <th>AASDH</th>\n",
       "      <th>AASDHPPT</th>\n",
       "      <th>AASS</th>\n",
       "      <th>AATF</th>\n",
       "      <th>...</th>\n",
       "      <th>ZSWIM6</th>\n",
       "      <th>ZSWIM7</th>\n",
       "      <th>ZUFSP</th>\n",
       "      <th>ZW10</th>\n",
       "      <th>ZWILCH</th>\n",
       "      <th>ZXDC</th>\n",
       "      <th>ZYG11B</th>\n",
       "      <th>ZYX</th>\n",
       "      <th>ZZZ3</th>\n",
       "      <th>Classes</th>\n",
       "    </tr>\n",
       "  </thead>\n",
       "  <tbody>\n",
       "    <tr>\n",
       "      <th>count</th>\n",
       "      <td>4.300000e+02</td>\n",
       "      <td>4.300000e+02</td>\n",
       "      <td>4.300000e+02</td>\n",
       "      <td>4.300000e+02</td>\n",
       "      <td>4.300000e+02</td>\n",
       "      <td>4.300000e+02</td>\n",
       "      <td>4.300000e+02</td>\n",
       "      <td>4.300000e+02</td>\n",
       "      <td>4.300000e+02</td>\n",
       "      <td>4.300000e+02</td>\n",
       "      <td>...</td>\n",
       "      <td>4.300000e+02</td>\n",
       "      <td>4.300000e+02</td>\n",
       "      <td>4.300000e+02</td>\n",
       "      <td>4.300000e+02</td>\n",
       "      <td>4.300000e+02</td>\n",
       "      <td>4.300000e+02</td>\n",
       "      <td>4.300000e+02</td>\n",
       "      <td>4.300000e+02</td>\n",
       "      <td>4.300000e+02</td>\n",
       "      <td>430.000000</td>\n",
       "    </tr>\n",
       "    <tr>\n",
       "      <th>mean</th>\n",
       "      <td>-5.116304e-11</td>\n",
       "      <td>9.069751e-11</td>\n",
       "      <td>1.627911e-11</td>\n",
       "      <td>-7.674423e-11</td>\n",
       "      <td>-8.139528e-11</td>\n",
       "      <td>-1.302326e-10</td>\n",
       "      <td>-2.255814e-10</td>\n",
       "      <td>-2.325854e-12</td>\n",
       "      <td>5.813938e-11</td>\n",
       "      <td>-1.511630e-10</td>\n",
       "      <td>...</td>\n",
       "      <td>-1.906975e-10</td>\n",
       "      <td>-3.953480e-11</td>\n",
       "      <td>-4.418617e-11</td>\n",
       "      <td>-1.651161e-10</td>\n",
       "      <td>1.906977e-10</td>\n",
       "      <td>-1.348837e-10</td>\n",
       "      <td>3.255816e-11</td>\n",
       "      <td>-2.023256e-10</td>\n",
       "      <td>-1.604652e-10</td>\n",
       "      <td>2.727907</td>\n",
       "    </tr>\n",
       "    <tr>\n",
       "      <th>std</th>\n",
       "      <td>4.907659e+00</td>\n",
       "      <td>3.641663e+00</td>\n",
       "      <td>2.474651e+00</td>\n",
       "      <td>3.563029e+00</td>\n",
       "      <td>3.909578e+00</td>\n",
       "      <td>3.317166e+00</td>\n",
       "      <td>2.883981e+00</td>\n",
       "      <td>3.759008e+00</td>\n",
       "      <td>3.236368e+00</td>\n",
       "      <td>3.461157e+00</td>\n",
       "      <td>...</td>\n",
       "      <td>2.730348e+00</td>\n",
       "      <td>2.946168e+00</td>\n",
       "      <td>2.702606e+00</td>\n",
       "      <td>2.836726e+00</td>\n",
       "      <td>2.788284e+00</td>\n",
       "      <td>2.859633e+00</td>\n",
       "      <td>2.811249e+00</td>\n",
       "      <td>3.001418e+00</td>\n",
       "      <td>3.052755e+00</td>\n",
       "      <td>1.438049</td>\n",
       "    </tr>\n",
       "    <tr>\n",
       "      <th>min</th>\n",
       "      <td>-3.801470e+00</td>\n",
       "      <td>-3.889900e+00</td>\n",
       "      <td>-3.985616e+00</td>\n",
       "      <td>-5.820241e+00</td>\n",
       "      <td>-6.041792e+00</td>\n",
       "      <td>-3.699171e+00</td>\n",
       "      <td>-2.473517e+00</td>\n",
       "      <td>-4.354127e+00</td>\n",
       "      <td>-6.493931e+00</td>\n",
       "      <td>-2.570976e+00</td>\n",
       "      <td>...</td>\n",
       "      <td>-1.821098e+00</td>\n",
       "      <td>-3.118284e+00</td>\n",
       "      <td>-1.538324e+00</td>\n",
       "      <td>-1.550699e+00</td>\n",
       "      <td>-1.558581e+00</td>\n",
       "      <td>-3.068620e+00</td>\n",
       "      <td>-3.421540e+00</td>\n",
       "      <td>-2.509017e+00</td>\n",
       "      <td>-2.149696e+00</td>\n",
       "      <td>1.000000</td>\n",
       "    </tr>\n",
       "    <tr>\n",
       "      <th>25%</th>\n",
       "      <td>-3.801470e+00</td>\n",
       "      <td>-3.889900e+00</td>\n",
       "      <td>-1.871573e+00</td>\n",
       "      <td>-3.807913e+00</td>\n",
       "      <td>-4.560471e+00</td>\n",
       "      <td>-3.699171e+00</td>\n",
       "      <td>-2.473517e+00</td>\n",
       "      <td>-4.354127e+00</td>\n",
       "      <td>-1.967954e+00</td>\n",
       "      <td>-2.570976e+00</td>\n",
       "      <td>...</td>\n",
       "      <td>-1.821098e+00</td>\n",
       "      <td>-3.118284e+00</td>\n",
       "      <td>-1.538324e+00</td>\n",
       "      <td>-1.550699e+00</td>\n",
       "      <td>-1.558581e+00</td>\n",
       "      <td>-3.068620e+00</td>\n",
       "      <td>-2.423300e+00</td>\n",
       "      <td>-2.509017e+00</td>\n",
       "      <td>-2.149696e+00</td>\n",
       "      <td>1.000000</td>\n",
       "    </tr>\n",
       "    <tr>\n",
       "      <th>50%</th>\n",
       "      <td>-3.801470e+00</td>\n",
       "      <td>4.099148e-01</td>\n",
       "      <td>-3.150282e-01</td>\n",
       "      <td>1.746972e+00</td>\n",
       "      <td>1.776033e+00</td>\n",
       "      <td>1.097698e-01</td>\n",
       "      <td>-2.473517e+00</td>\n",
       "      <td>1.255356e+00</td>\n",
       "      <td>1.192040e+00</td>\n",
       "      <td>-2.570976e+00</td>\n",
       "      <td>...</td>\n",
       "      <td>-1.821098e+00</td>\n",
       "      <td>-8.136609e-01</td>\n",
       "      <td>-1.538324e+00</td>\n",
       "      <td>-1.550699e+00</td>\n",
       "      <td>-1.558581e+00</td>\n",
       "      <td>-8.339072e-01</td>\n",
       "      <td>-4.421617e-01</td>\n",
       "      <td>-2.509017e+00</td>\n",
       "      <td>-2.149696e+00</td>\n",
       "      <td>3.000000</td>\n",
       "    </tr>\n",
       "    <tr>\n",
       "      <th>75%</th>\n",
       "      <td>4.943281e+00</td>\n",
       "      <td>3.711243e+00</td>\n",
       "      <td>2.002047e+00</td>\n",
       "      <td>2.686033e+00</td>\n",
       "      <td>3.116038e+00</td>\n",
       "      <td>3.238343e+00</td>\n",
       "      <td>2.622538e+00</td>\n",
       "      <td>3.553135e+00</td>\n",
       "      <td>2.261182e+00</td>\n",
       "      <td>3.911515e+00</td>\n",
       "      <td>...</td>\n",
       "      <td>2.038805e+00</td>\n",
       "      <td>2.848862e+00</td>\n",
       "      <td>8.320662e-01</td>\n",
       "      <td>-1.687454e-01</td>\n",
       "      <td>3.335339e-01</td>\n",
       "      <td>2.459752e+00</td>\n",
       "      <td>2.514619e+00</td>\n",
       "      <td>2.939355e+00</td>\n",
       "      <td>2.228821e+00</td>\n",
       "      <td>4.000000</td>\n",
       "    </tr>\n",
       "    <tr>\n",
       "      <th>max</th>\n",
       "      <td>1.170195e+01</td>\n",
       "      <td>5.840230e+00</td>\n",
       "      <td>5.389576e+00</td>\n",
       "      <td>4.520579e+00</td>\n",
       "      <td>6.366184e+00</td>\n",
       "      <td>6.012985e+00</td>\n",
       "      <td>6.798128e+00</td>\n",
       "      <td>5.729251e+00</td>\n",
       "      <td>4.324112e+00</td>\n",
       "      <td>6.992394e+00</td>\n",
       "      <td>...</td>\n",
       "      <td>7.931653e+00</td>\n",
       "      <td>6.105923e+00</td>\n",
       "      <td>8.186486e+00</td>\n",
       "      <td>8.073628e+00</td>\n",
       "      <td>7.998381e+00</td>\n",
       "      <td>5.950488e+00</td>\n",
       "      <td>6.703674e+00</td>\n",
       "      <td>6.918941e+00</td>\n",
       "      <td>8.064823e+00</td>\n",
       "      <td>5.000000</td>\n",
       "    </tr>\n",
       "  </tbody>\n",
       "</table>\n",
       "<p>8 rows × 5949 columns</p>\n",
       "</div>"
      ],
      "text/plain": [
       "                A2M          AAAS          AAK1          AAMP          AARS  \\\n",
       "count  4.300000e+02  4.300000e+02  4.300000e+02  4.300000e+02  4.300000e+02   \n",
       "mean  -5.116304e-11  9.069751e-11  1.627911e-11 -7.674423e-11 -8.139528e-11   \n",
       "std    4.907659e+00  3.641663e+00  2.474651e+00  3.563029e+00  3.909578e+00   \n",
       "min   -3.801470e+00 -3.889900e+00 -3.985616e+00 -5.820241e+00 -6.041792e+00   \n",
       "25%   -3.801470e+00 -3.889900e+00 -1.871573e+00 -3.807913e+00 -4.560471e+00   \n",
       "50%   -3.801470e+00  4.099148e-01 -3.150282e-01  1.746972e+00  1.776033e+00   \n",
       "75%    4.943281e+00  3.711243e+00  2.002047e+00  2.686033e+00  3.116038e+00   \n",
       "max    1.170195e+01  5.840230e+00  5.389576e+00  4.520579e+00  6.366184e+00   \n",
       "\n",
       "             AARSD1         AASDH      AASDHPPT          AASS          AATF  \\\n",
       "count  4.300000e+02  4.300000e+02  4.300000e+02  4.300000e+02  4.300000e+02   \n",
       "mean  -1.302326e-10 -2.255814e-10 -2.325854e-12  5.813938e-11 -1.511630e-10   \n",
       "std    3.317166e+00  2.883981e+00  3.759008e+00  3.236368e+00  3.461157e+00   \n",
       "min   -3.699171e+00 -2.473517e+00 -4.354127e+00 -6.493931e+00 -2.570976e+00   \n",
       "25%   -3.699171e+00 -2.473517e+00 -4.354127e+00 -1.967954e+00 -2.570976e+00   \n",
       "50%    1.097698e-01 -2.473517e+00  1.255356e+00  1.192040e+00 -2.570976e+00   \n",
       "75%    3.238343e+00  2.622538e+00  3.553135e+00  2.261182e+00  3.911515e+00   \n",
       "max    6.012985e+00  6.798128e+00  5.729251e+00  4.324112e+00  6.992394e+00   \n",
       "\n",
       "       ...        ZSWIM6        ZSWIM7         ZUFSP          ZW10  \\\n",
       "count  ...  4.300000e+02  4.300000e+02  4.300000e+02  4.300000e+02   \n",
       "mean   ... -1.906975e-10 -3.953480e-11 -4.418617e-11 -1.651161e-10   \n",
       "std    ...  2.730348e+00  2.946168e+00  2.702606e+00  2.836726e+00   \n",
       "min    ... -1.821098e+00 -3.118284e+00 -1.538324e+00 -1.550699e+00   \n",
       "25%    ... -1.821098e+00 -3.118284e+00 -1.538324e+00 -1.550699e+00   \n",
       "50%    ... -1.821098e+00 -8.136609e-01 -1.538324e+00 -1.550699e+00   \n",
       "75%    ...  2.038805e+00  2.848862e+00  8.320662e-01 -1.687454e-01   \n",
       "max    ...  7.931653e+00  6.105923e+00  8.186486e+00  8.073628e+00   \n",
       "\n",
       "             ZWILCH          ZXDC        ZYG11B           ZYX          ZZZ3  \\\n",
       "count  4.300000e+02  4.300000e+02  4.300000e+02  4.300000e+02  4.300000e+02   \n",
       "mean   1.906977e-10 -1.348837e-10  3.255816e-11 -2.023256e-10 -1.604652e-10   \n",
       "std    2.788284e+00  2.859633e+00  2.811249e+00  3.001418e+00  3.052755e+00   \n",
       "min   -1.558581e+00 -3.068620e+00 -3.421540e+00 -2.509017e+00 -2.149696e+00   \n",
       "25%   -1.558581e+00 -3.068620e+00 -2.423300e+00 -2.509017e+00 -2.149696e+00   \n",
       "50%   -1.558581e+00 -8.339072e-01 -4.421617e-01 -2.509017e+00 -2.149696e+00   \n",
       "75%    3.335339e-01  2.459752e+00  2.514619e+00  2.939355e+00  2.228821e+00   \n",
       "max    7.998381e+00  5.950488e+00  6.703674e+00  6.918941e+00  8.064823e+00   \n",
       "\n",
       "          Classes  \n",
       "count  430.000000  \n",
       "mean     2.727907  \n",
       "std      1.438049  \n",
       "min      1.000000  \n",
       "25%      1.000000  \n",
       "50%      3.000000  \n",
       "75%      4.000000  \n",
       "max      5.000000  \n",
       "\n",
       "[8 rows x 5949 columns]"
      ]
     },
     "execution_count": 12,
     "metadata": {},
     "output_type": "execute_result"
    }
   ],
   "source": [
    "df.describe()"
   ]
  },
  {
   "cell_type": "code",
   "execution_count": 13,
   "metadata": {},
   "outputs": [],
   "source": [
    "# Map the labels to the ordinal numbers\n",
    "df['Classes']=df['Classes'].replace({1:\"CT1\", 2:\"CT2\", 3:\"CT3\", 4:\"CT4\", 5:\"CT5\"})"
   ]
  },
  {
   "cell_type": "code",
   "execution_count": 14,
   "metadata": {},
   "outputs": [
    {
     "data": {
      "text/plain": [
       "CT1    118\n",
       "CT2     94\n",
       "CT3     75\n",
       "CT4     73\n",
       "CT5     70\n",
       "Name: Classes, dtype: int64"
      ]
     },
     "execution_count": 14,
     "metadata": {},
     "output_type": "execute_result"
    }
   ],
   "source": [
    "# Obtain the class distribution\n",
    "df['Classes'].value_counts()"
   ]
  },
  {
   "cell_type": "code",
   "execution_count": 15,
   "metadata": {},
   "outputs": [],
   "source": [
    "# Train, test split\\n\n",
    "X = df.drop(['Classes'],axis=1)\n",
    "y = df['Classes']\n",
    "X_train, X_test, y_train, y_test = train_test_split(X, y, test_size=0.2, random_state=42,stratify=y)"
   ]
  },
  {
   "cell_type": "code",
   "execution_count": 16,
   "metadata": {},
   "outputs": [],
   "source": [
    "# obtain class labels for future use\n",
    "classes = y.value_counts().index.tolist()"
   ]
  },
  {
   "cell_type": "code",
   "execution_count": 17,
   "metadata": {},
   "outputs": [],
   "source": [
    "# instantiate the object for the classifier\n",
    "knn = KNeighborsClassifier(n_neighbors = 7)"
   ]
  },
  {
   "cell_type": "code",
   "execution_count": 18,
   "metadata": {},
   "outputs": [
    {
     "data": {
      "text/plain": [
       "KNeighborsClassifier(algorithm='auto', leaf_size=30, metric='minkowski',\n",
       "                     metric_params=None, n_jobs=None, n_neighbors=7, p=2,\n",
       "                     weights='uniform')"
      ]
     },
     "execution_count": 18,
     "metadata": {},
     "output_type": "execute_result"
    }
   ],
   "source": [
    "# fit the classifier with training data\n",
    "knn.fit(X_train, y_train)"
   ]
  },
  {
   "cell_type": "code",
   "execution_count": 19,
   "metadata": {},
   "outputs": [],
   "source": [
    "# perfrom prediction on X test data\n",
    "y_pred = knn.predict(X_test)"
   ]
  },
  {
   "cell_type": "code",
   "execution_count": 20,
   "metadata": {},
   "outputs": [
    {
     "name": "stdout",
     "output_type": "stream",
     "text": [
      "['CT4' 'CT4' 'CT3' 'CT3' 'CT5' 'CT3' 'CT3' 'CT1' 'CT3' 'CT3' 'CT5' 'CT2'\n",
      " 'CT3' 'CT3' 'CT3' 'CT1' 'CT1' 'CT1' 'CT3' 'CT5' 'CT2' 'CT3' 'CT1' 'CT5'\n",
      " 'CT1' 'CT2' 'CT3' 'CT3' 'CT2' 'CT3' 'CT2' 'CT5' 'CT3' 'CT3' 'CT1' 'CT3'\n",
      " 'CT2' 'CT2' 'CT1' 'CT3' 'CT1' 'CT1' 'CT1' 'CT2' 'CT2' 'CT4' 'CT4' 'CT3'\n",
      " 'CT3' 'CT3' 'CT3' 'CT1' 'CT3' 'CT3' 'CT3' 'CT5' 'CT3' 'CT3' 'CT3' 'CT4'\n",
      " 'CT3' 'CT1' 'CT2' 'CT3' 'CT3' 'CT3' 'CT3' 'CT5' 'CT3' 'CT5' 'CT3' 'CT4'\n",
      " 'CT3' 'CT3' 'CT3' 'CT1' 'CT1' 'CT3' 'CT3' 'CT3' 'CT1' 'CT3' 'CT3' 'CT1'\n",
      " 'CT3' 'CT1']\n"
     ]
    }
   ],
   "source": [
    "print(y_pred)"
   ]
  },
  {
   "cell_type": "code",
   "execution_count": 21,
   "metadata": {},
   "outputs": [
    {
     "name": "stdout",
     "output_type": "stream",
     "text": [
      "[[18  1  4  0  0]\n",
      " [ 0  8 11  0  0]\n",
      " [ 0  0 15  0  0]\n",
      " [ 0  1  7  6  1]\n",
      " [ 0  0  7  0  7]]\n"
     ]
    }
   ],
   "source": [
    "# get the confusion accuracy by comparing the prediction result to the test labels, y_test\n",
    "from sklearn.metrics import accuracy_score\n",
    "from sklearn.metrics import confusion_matrix\n",
    "cm = confusion_matrix(y_test, y_pred)\n",
    "print(cm)"
   ]
  },
  {
   "cell_type": "code",
   "execution_count": 22,
   "metadata": {},
   "outputs": [
    {
     "name": "stdout",
     "output_type": "stream",
     "text": [
      "0.627906976744186\n"
     ]
    }
   ],
   "source": [
    "accuracy = accuracy_score(y_test, y_pred)\n",
    "print(accuracy)"
   ]
  },
  {
   "cell_type": "code",
   "execution_count": 23,
   "metadata": {},
   "outputs": [],
   "source": [
    "# Elect  parameters for the grid_search to find the best params and the best model.\n",
    "# parameters here are just estimation\n",
    "parameters = [{'n_neighbors':[3]}]"
   ]
  },
  {
   "cell_type": "code",
   "execution_count": 24,
   "metadata": {},
   "outputs": [],
   "source": [
    "# use GridSearchCV for parameter optimzation\n",
    "grid_search = GridSearchCV(estimator = knn, param_grid = parameters,\n",
    "                          scoring = 'accuracy', cv = 5, n_jobs = -1)"
   ]
  },
  {
   "cell_type": "code",
   "execution_count": 25,
   "metadata": {},
   "outputs": [],
   "source": [
    "# fit the grid_search with the training data\n",
    "grid_search = grid_search.fit(X_train, y_train)"
   ]
  },
  {
   "cell_type": "code",
   "execution_count": 26,
   "metadata": {},
   "outputs": [
    {
     "name": "stdout",
     "output_type": "stream",
     "text": [
      "0.6831628303495311\n"
     ]
    }
   ],
   "source": [
    "# get the accuracy\n",
    "accuracy = grid_search.best_score_\n",
    "print(accuracy)"
   ]
  },
  {
   "cell_type": "code",
   "execution_count": 27,
   "metadata": {},
   "outputs": [
    {
     "name": "stdout",
     "output_type": "stream",
     "text": [
      "{'n_neighbors': 3}\n"
     ]
    }
   ],
   "source": [
    "# get best parameter from the grid_search\n",
    "print(grid_search.best_params_)"
   ]
  },
  {
   "cell_type": "code",
   "execution_count": 28,
   "metadata": {},
   "outputs": [],
   "source": [
    "knn = KNeighborsClassifier(n_neighbors = 3)"
   ]
  },
  {
   "cell_type": "code",
   "execution_count": 29,
   "metadata": {},
   "outputs": [
    {
     "data": {
      "text/plain": [
       "KNeighborsClassifier(algorithm='auto', leaf_size=30, metric='minkowski',\n",
       "                     metric_params=None, n_jobs=None, n_neighbors=3, p=2,\n",
       "                     weights='uniform')"
      ]
     },
     "execution_count": 29,
     "metadata": {},
     "output_type": "execute_result"
    }
   ],
   "source": [
    "# fit the model again for param. optimization\n",
    "knn.fit(X_train, y_train)"
   ]
  },
  {
   "cell_type": "code",
   "execution_count": 30,
   "metadata": {},
   "outputs": [],
   "source": [
    "y_pred = knn.predict(X_test)"
   ]
  },
  {
   "cell_type": "code",
   "execution_count": 31,
   "metadata": {},
   "outputs": [
    {
     "name": "stdout",
     "output_type": "stream",
     "text": [
      "[[16  1  6  0  0]\n",
      " [ 0  8 11  0  0]\n",
      " [ 0  0 15  0  0]\n",
      " [ 1  1  6  7  0]\n",
      " [ 0  0  7  0  7]]\n"
     ]
    }
   ],
   "source": [
    "# print the confusion matrix\n",
    "cm = confusion_matrix(y_test, y_pred)\n",
    "print(cm)"
   ]
  },
  {
   "cell_type": "code",
   "execution_count": 32,
   "metadata": {},
   "outputs": [
    {
     "data": {
      "text/plain": [
       "0.6831628303495311"
      ]
     },
     "execution_count": 32,
     "metadata": {},
     "output_type": "execute_result"
    }
   ],
   "source": [
    "# print the accuracy after parameter optimization\n",
    "accuracy"
   ]
  },
  {
   "cell_type": "code",
   "execution_count": null,
   "metadata": {},
   "outputs": [],
   "source": []
  }
 ],
 "metadata": {
  "kernelspec": {
   "display_name": "Python 3",
   "language": "python",
   "name": "python3"
  },
  "language_info": {
   "codemirror_mode": {
    "name": "ipython",
    "version": 3
   },
   "file_extension": ".py",
   "mimetype": "text/x-python",
   "name": "python",
   "nbconvert_exporter": "python",
   "pygments_lexer": "ipython3",
   "version": "3.7.6"
  }
 },
 "nbformat": 4,
 "nbformat_minor": 4
}
